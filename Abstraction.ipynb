{
 "cells": [
  {
   "cell_type": "code",
   "execution_count": null,
   "id": "6e816887-0167-47f4-9257-6b63338f794e",
   "metadata": {},
   "outputs": [],
   "source": [
    "#Abstraction:\n",
    "  Blueprint for other classes creates set of methods created within any child class bulit from the \n",
    "abstract class. To create abstract method and abstract class,import ABC and abstract method classes from \n",
    "abc(abstract base class)library."
   ]
  },
  {
   "cell_type": "code",
   "execution_count": 18,
   "id": "cc50954b-ce92-45eb-910f-c1dcb6e9519e",
   "metadata": {},
   "outputs": [
    {
     "name": "stdout",
     "output_type": "stream",
     "text": [
      "cat meows\n",
      "dof name is pinto\n"
     ]
    }
   ],
   "source": [
    "#Abstract class:\n",
    "class animal:\n",
    "    def __init__(self,species):\n",
    "        self.__species=species\n",
    "    def get__species(self):\n",
    "        return self.__species\n",
    "    def dog(self):\n",
    "        print(f'dof name is {self.__species}')\n",
    "class cat(animal):\n",
    "    def cat(self):\n",
    "        print('cat meows')\n",
    "c=cat('pinto')\n",
    "c.cat()\n",
    "c.dog()"
   ]
  },
  {
   "cell_type": "code",
   "execution_count": 16,
   "id": "528e2f30-c83d-4340-9e3e-1ab62aa63806",
   "metadata": {},
   "outputs": [
    {
     "name": "stdout",
     "output_type": "stream",
     "text": [
      "12.566370614359172\n",
      "12.566370614359172\n",
      "8\n",
      "12\n"
     ]
    }
   ],
   "source": [
    "import math\n",
    "from abc import ABC,abstractmethod\n",
    "class shape(ABC):\n",
    "    @abstractmethod\n",
    "    def area(self):\n",
    "        pass\n",
    "    @abstractmethod\n",
    "    def perimeter(self):\n",
    "        pass\n",
    "class rectangle(shape):\n",
    "    def __init__(self,width,height):\n",
    "        self.width=width\n",
    "        self.height=height\n",
    "    def area(self):\n",
    "        print(self.width*self.height)\n",
    "    def perimeter(self):\n",
    "        print(2*(self.width+self.height))\n",
    "class circle(shape):\n",
    "    def __init__(self,radius):\n",
    "        self.radius=radius\n",
    "    def area(self):\n",
    "        print(math.pi*(self.radius**2))\n",
    "    def perimeter(self):\n",
    "        print(2*math.pi*self.radius)\n",
    "c=circle(2)\n",
    "c.area()\n",
    "c.perimeter()\n",
    "d=rectangle(2,4)\n",
    "d.area()\n",
    "d.perimeter()\n",
    "    "
   ]
  },
  {
   "cell_type": "code",
   "execution_count": 24,
   "id": "60ef150f-c13a-4c54-84d5-71a3ba654a14",
   "metadata": {},
   "outputs": [
    {
     "name": "stdout",
     "output_type": "stream",
     "text": [
      "I have 3 sides\n",
      "I have 4 sides\n",
      "I have 5 sides\n",
      "I have 6 sides\n"
     ]
    }
   ],
   "source": [
    "#python program showing\n",
    "# abstract base class work\n",
    "from abc import ABC,abstractmethod\n",
    "class polygon(ABC):\n",
    "    @abstractmethod\n",
    "    def noofsides(self):\n",
    "        pass\n",
    "\n",
    "class Triangle(polygon):\n",
    "    #overriding abstract method\n",
    "    def noofsides(self):\n",
    "        print(\"I have 3 sides\")\n",
    "\n",
    "class Pentagon(polygon):\n",
    "    #overriding abstract method\n",
    "    def noofsides(self):\n",
    "        print(\"I have 5 sides\")\n",
    "\n",
    "class Hexagon(polygon):\n",
    "    #overriding abstract method\n",
    "    def noofsides(self):\n",
    "        print(\"I have 6 sides\")\n",
    "\n",
    "class Quadrilateral(polygon):\n",
    "    #overriding abstract method\n",
    "    def noofsides(self):\n",
    "        print(\"I have 4 sides\")\n",
    "\n",
    "#Driver code:\n",
    "R = Triangle()\n",
    "R.noofsides()\n",
    "\n",
    "R = Quadrilateral()\n",
    "R.noofsides()\n",
    "\n",
    "R = Pentagon()\n",
    "R.noofsides()\n",
    "\n",
    "K = Hexagon()\n",
    "K.noofsides()\n"
   ]
  },
  {
   "cell_type": "code",
   "execution_count": 36,
   "id": "676a3dda-1a20-479c-8cbc-9cf449e59010",
   "metadata": {},
   "outputs": [
    {
     "name": "stdout",
     "output_type": "stream",
     "text": [
      "Car engine started\n"
     ]
    }
   ],
   "source": [
    "#Abstract methods in python are define using the @abstractmethod decorator from the abc module.\n",
    "# These meethods do not provides any implementation in the abstract class and must be overridden in any concrete subclass.\n",
    "from abc import ABC,abstractmethod\n",
    "class Vehicle(ABC):\n",
    "    @abstractmethod\n",
    "    def start__engine(self):\n",
    "        pass\n",
    "\n",
    "class Car(Vehicle):\n",
    "    def start__engine(self):\n",
    "        return \"Car engine started\"\n",
    "\n",
    "car=Car()\n",
    "print(car.start__engine())"
   ]
  },
  {
   "cell_type": "code",
   "execution_count": null,
   "id": "dffceca6-cbf8-42fb-af93-29e210fd9f19",
   "metadata": {},
   "outputs": [],
   "source": []
  }
 ],
 "metadata": {
  "kernelspec": {
   "display_name": "Python 3 (ipykernel)",
   "language": "python",
   "name": "python3"
  },
  "language_info": {
   "codemirror_mode": {
    "name": "ipython",
    "version": 3
   },
   "file_extension": ".py",
   "mimetype": "text/x-python",
   "name": "python",
   "nbconvert_exporter": "python",
   "pygments_lexer": "ipython3",
   "version": "3.12.4"
  }
 },
 "nbformat": 4,
 "nbformat_minor": 5
}
